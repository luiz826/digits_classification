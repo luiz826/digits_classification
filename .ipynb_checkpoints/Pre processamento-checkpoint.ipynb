{
 "cells": [
  {
   "cell_type": "code",
   "execution_count": 1,
   "id": "2da4ad71",
   "metadata": {},
   "outputs": [],
   "source": [
    "import pandas as pd\n",
    "import numpy as np\n",
    "\n",
    "import src.utils as utils"
   ]
  },
  {
   "cell_type": "code",
   "execution_count": 2,
   "id": "db31122b",
   "metadata": {},
   "outputs": [],
   "source": [
    "train = pd.read_csv(\"./data/train.csv\", sep=\";\")\n",
    "test = pd.read_csv(\"./data/test.csv\", sep=\";\")"
   ]
  },
  {
   "cell_type": "markdown",
   "id": "efd2a0d5",
   "metadata": {},
   "source": [
    "# Train"
   ]
  },
  {
   "cell_type": "code",
   "execution_count": 3,
   "id": "ca4f2e37",
   "metadata": {},
   "outputs": [],
   "source": [
    "pixels = train.iloc[:, 1:].values"
   ]
  },
  {
   "cell_type": "code",
   "execution_count": 4,
   "id": "06ebdf46",
   "metadata": {},
   "outputs": [],
   "source": [
    "sim = utils.simetry(pixels)\n",
    "intens = utils.intensity(pixels)    "
   ]
  },
  {
   "cell_type": "code",
   "execution_count": 5,
   "id": "677fb863",
   "metadata": {},
   "outputs": [],
   "source": [
    "train[\"intensidade\"] = intens\n",
    "train[\"simetria\"] = sim"
   ]
  },
  {
   "cell_type": "code",
   "execution_count": 7,
   "id": "5c11493c",
   "metadata": {},
   "outputs": [],
   "source": [
    "train[[\"label\", \"intensidade\", \"simetria\"]].to_csv(\"./data/train_redu.csv\", index=False)"
   ]
  },
  {
   "cell_type": "markdown",
   "id": "7f88ada6",
   "metadata": {},
   "source": [
    "# Test"
   ]
  },
  {
   "cell_type": "code",
   "execution_count": 8,
   "id": "9c6bf57e",
   "metadata": {},
   "outputs": [],
   "source": [
    "pixels = test.iloc[:, 1:].values"
   ]
  },
  {
   "cell_type": "code",
   "execution_count": 9,
   "id": "cb08c545",
   "metadata": {},
   "outputs": [],
   "source": [
    "sim = utils.simetry(pixels)\n",
    "intens = utils.intensity(pixels)    "
   ]
  },
  {
   "cell_type": "code",
   "execution_count": 10,
   "id": "ac29de8c",
   "metadata": {},
   "outputs": [],
   "source": [
    "test[\"intensidade\"] = intens\n",
    "test[\"simetria\"] = sim"
   ]
  },
  {
   "cell_type": "code",
   "execution_count": 11,
   "id": "0c1f125e",
   "metadata": {},
   "outputs": [],
   "source": [
    "test[[\"label\", \"intensidade\", \"simetria\"]].to_csv(\"./data/test_redu.csv\", index=False)"
   ]
  },
  {
   "cell_type": "code",
   "execution_count": null,
   "id": "f1d5ad2f",
   "metadata": {},
   "outputs": [],
   "source": []
  }
 ],
 "metadata": {
  "kernelspec": {
   "display_name": "Python 3 (ipykernel)",
   "language": "python",
   "name": "python3"
  },
  "language_info": {
   "codemirror_mode": {
    "name": "ipython",
    "version": 3
   },
   "file_extension": ".py",
   "mimetype": "text/x-python",
   "name": "python",
   "nbconvert_exporter": "python",
   "pygments_lexer": "ipython3",
   "version": "3.10.6"
  }
 },
 "nbformat": 4,
 "nbformat_minor": 5
}
