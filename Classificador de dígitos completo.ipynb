{
 "cells": [
  {
   "cell_type": "markdown",
   "id": "181bf21e",
   "metadata": {},
   "source": [
    "# Classificador de dígitos completo\n",
    "\n",
    "### Alunos:\n",
    "\n",
    "- Caio Lucas da Silva Chacon - 20200025769\n",
    "- Luiz Fernando Costa dos Santos - 20200025446"
   ]
  },
  {
   "cell_type": "code",
   "execution_count": 1,
   "id": "58007f26",
   "metadata": {
    "ExecuteTime": {
     "end_time": "2023-04-26T01:04:52.736417Z",
     "start_time": "2023-04-26T01:04:25.409860Z"
    }
   },
   "outputs": [],
   "source": [
    "import pandas as pd\n",
    "import numpy as np\n",
    "import matplotlib.pyplot as plt\n",
    "from sklearn.metrics import confusion_matrix, accuracy_score\n",
    "\n",
    "\n",
    "import src.linear_models as lm\n",
    "import src.classifier_all_utils as utils\n",
    "import src.metrics as metrics"
   ]
  },
  {
   "cell_type": "code",
   "execution_count": 2,
   "id": "7773935f",
   "metadata": {
    "ExecuteTime": {
     "end_time": "2023-04-26T01:04:52.757306Z",
     "start_time": "2023-04-26T01:04:52.743916Z"
    }
   },
   "outputs": [],
   "source": [
    "train = pd.read_csv(\"./data/train_redu.csv\")\n",
    "test = pd.read_csv(\"./data/test_redu.csv\")"
   ]
  },
  {
   "cell_type": "markdown",
   "id": "5896e87a",
   "metadata": {},
   "source": [
    "# Treinamento"
   ]
  },
  {
   "cell_type": "code",
   "execution_count": 3,
   "id": "eb54dcbf",
   "metadata": {},
   "outputs": [],
   "source": [
    "# linear_reg = lm.OneVsAll(\"lin\")\n",
    "# linear_reg.fit(train)"
   ]
  },
  {
   "cell_type": "code",
   "execution_count": null,
   "id": "4e81b7fe",
   "metadata": {
    "ExecuteTime": {
     "start_time": "2023-04-26T01:35:07.789Z"
    },
    "scrolled": false
   },
   "outputs": [
    {
     "name": "stderr",
     "output_type": "stream",
     "text": [
      "/Users/luiz.costa/univ/digits_classification/src/linear_models.py:52: RuntimeWarning: overflow encountered in exp\n",
      "  gt = -(1/N) * sum([xi*yi / (1+np.exp(yi*w.dot(xi))) for xi, yi in zip(batchX, batchY)])\n"
     ]
    }
   ],
   "source": [
    "X_test = test[[\"intensidade\", \"simetria\"]].values\n",
    "X_test = np.c_[np.ones(X_test.shape[0]), X_test]          \n",
    "y_test = test[\"label\"].values\n",
    "# for i in [1000000, 1500000, 2000000]:\n",
    "logistic_reg = lm.OneVsAll(\"log\", eta=0.1, bs=512, tmax=1000000, lam=1e-6)\n",
    "logistic_reg.fit(train.sample(1000))\n",
    "y_pred_logr = [logistic_reg.predict_one(i) for i in X_test]\n",
    "print(\"tmax: \", i, end=\" \")\n",
    "print(\"acc: \", accuracy_score(y_test, y_pred_logr))"
   ]
  },
  {
   "cell_type": "code",
   "execution_count": null,
   "id": "65cc5b7e",
   "metadata": {},
   "outputs": [],
   "source": [
    "# pocket_pla = lm.OneVsAll(\"pla\", tmax=1500000)\n",
    "# pocket_pla.fit(train)"
   ]
  },
  {
   "cell_type": "markdown",
   "id": "aae5f712",
   "metadata": {},
   "source": [
    "# Predição"
   ]
  },
  {
   "cell_type": "code",
   "execution_count": null,
   "id": "8e587dae",
   "metadata": {},
   "outputs": [],
   "source": [
    "X_test = test[[\"intensidade\", \"simetria\"]].values\n",
    "X_test = np.c_[np.ones(X_test.shape[0]), X_test]          \n",
    "y_test = test[\"label\"].values"
   ]
  },
  {
   "cell_type": "code",
   "execution_count": null,
   "id": "6f67b875",
   "metadata": {},
   "outputs": [],
   "source": [
    "# y_pred_linr = [linear_reg.predict_one(i) for i in X_test]\n",
    "y_pred_logr = [logistic_reg.predict_one(i) for i in X_test]\n",
    "# y_pred_pla = [pocket_pla.predict_one(i) for i in X_test]"
   ]
  },
  {
   "cell_type": "markdown",
   "id": "9add97f9",
   "metadata": {},
   "source": [
    "# Avaliação"
   ]
  },
  {
   "cell_type": "markdown",
   "id": "291895c8",
   "metadata": {},
   "source": [
    "### Linear Reg"
   ]
  },
  {
   "cell_type": "code",
   "execution_count": null,
   "id": "8f4f6eb2",
   "metadata": {},
   "outputs": [],
   "source": [
    "# \n",
    "\n",
    "# confusion_matrix(y_test, y_pred_linr)"
   ]
  },
  {
   "cell_type": "code",
   "execution_count": null,
   "id": "e37f4981",
   "metadata": {},
   "outputs": [],
   "source": [
    "# accuracy_score(y_test, y_pred_linr)"
   ]
  },
  {
   "cell_type": "code",
   "execution_count": null,
   "id": "cc0789f9",
   "metadata": {},
   "outputs": [],
   "source": [
    "# wei = linear_reg.get_w()\n",
    "\n",
    "# for k,w in zip([\"1x[0,4,5]\", \"0x[4,5]\", \"4x[5]\"], wei):\n",
    "#     x1 = np.array([20, 150]) # Valores arbitrários de x1 para desenhar a linha\n",
    "#     x2 = -(w[0] + w[1]*x1) / w[2]\n",
    "#     plt.plot(x1, x2, label=f\"{k}\")\n",
    "\n",
    "# for i in [0, 1, 4, 5]:\n",
    "#     plt.scatter(test.loc[test[\"label\"] == i]['intensidade'], test.loc[test[\"label\"] == i]['simetria'], label=f\"{i}\")\n",
    "# # plt.scatter(filter_5['intensidade'], filter_5['simetria'], color=\"red\", label=\"Cinco\")\n",
    "# plt.ylabel(\"Simetria\")\n",
    "# plt.xlabel(\"Intensidade\")\n",
    "# plt.title(\"Intensidade x Simetria\")\n",
    "# plt.ylim(50, 200)\n",
    "# plt.legend()\n",
    "# plt.show()"
   ]
  },
  {
   "cell_type": "markdown",
   "id": "6600575d",
   "metadata": {},
   "source": [
    "### Logistic reg"
   ]
  },
  {
   "cell_type": "code",
   "execution_count": null,
   "id": "e298d957",
   "metadata": {},
   "outputs": [],
   "source": [
    "confusion_matrix(y_test, y_pred_logr)"
   ]
  },
  {
   "cell_type": "code",
   "execution_count": null,
   "id": "d22afc7e",
   "metadata": {
    "scrolled": true
   },
   "outputs": [],
   "source": [
    "accuracy_score(y_test, y_pred_logr)"
   ]
  },
  {
   "cell_type": "code",
   "execution_count": null,
   "id": "1c7144fe",
   "metadata": {},
   "outputs": [],
   "source": [
    "logistic_reg.get_w()"
   ]
  },
  {
   "cell_type": "code",
   "execution_count": null,
   "id": "2e6ffa2e",
   "metadata": {},
   "outputs": [],
   "source": [
    "wei = logistic_reg.get_w()\n",
    "\n",
    "for k,w in zip([\"1x[0,4,5]\", \"0x[4,5]\", \"4x[5]\"], wei):\n",
    "    x1 = np.array([20, 150]) # Valores arbitrários de x1 para desenhar a linha\n",
    "    x2 = -(w[0] + w[1]*x1) / w[2]\n",
    "    plt.plot(x1, x2, label=f\"{k}\")\n",
    "\n",
    "for i in [0, 1, 4, 5]:\n",
    "    plt.scatter(test.loc[test[\"label\"] == i]['intensidade'], test.loc[test[\"label\"] == i]['simetria'], label=f\"{i}\")\n",
    "# plt.scatter(filter_5['intensidade'], filter_5['simetria'], color=\"red\", label=\"Cinco\")\n",
    "plt.ylabel(\"Simetria\")\n",
    "plt.xlabel(\"Intensidade\")\n",
    "plt.title(\"Intensidade x Simetria\")\n",
    "plt.ylim(50, 200)\n",
    "plt.legend()\n",
    "plt.show()"
   ]
  },
  {
   "cell_type": "markdown",
   "id": "1a223c22",
   "metadata": {},
   "source": [
    "### PLA"
   ]
  },
  {
   "cell_type": "code",
   "execution_count": 15,
   "id": "0d8f2856",
   "metadata": {},
   "outputs": [],
   "source": [
    "# confusion_matrix(y_test, y_pred_pla)"
   ]
  },
  {
   "cell_type": "code",
   "execution_count": 16,
   "id": "f4532448",
   "metadata": {},
   "outputs": [],
   "source": [
    "# accuracy_score(y_test, y_pred_pla)"
   ]
  },
  {
   "cell_type": "code",
   "execution_count": 17,
   "id": "9a267555",
   "metadata": {},
   "outputs": [],
   "source": [
    "# wei = pocket_pla.get_w()\n",
    "\n",
    "# for k,w in zip([\"1x[0,4,5]\", \"0x[4,5]\", \"4x[5]\"], wei):\n",
    "#     x1 = np.array([20, 150]) # Valores arbitrários de x1 para desenhar a linha\n",
    "#     x2 = -(w[0] + w[1]*x1) / w[2]\n",
    "#     plt.plot(x1, x2, label=f\"{k}\")\n",
    "\n",
    "# for i in [0, 1, 4, 5]:\n",
    "#     plt.scatter(test.loc[test[\"label\"] == i]['intensidade'], test.loc[test[\"label\"] == i]['simetria'], label=f\"{i}\")\n",
    "# # plt.scatter(filter_5['intensidade'], filter_5['simetria'], color=\"red\", label=\"Cinco\")\n",
    "# plt.ylabel(\"Simetria\")\n",
    "# plt.xlabel(\"Intensidade\")\n",
    "# plt.title(\"Intensidade x Simetria\")\n",
    "# plt.ylim(50, 200)\n",
    "# plt.legend()\n",
    "# plt.show()"
   ]
  },
  {
   "cell_type": "code",
   "execution_count": 18,
   "id": "56f1cc87",
   "metadata": {},
   "outputs": [],
   "source": [
    "# def cm(y_true, y_pred):    \n",
    "#     # obter as classes únicas\n",
    "#     classes = np.unique(y_true)\n",
    "\n",
    "#     # criar uma matriz de zeros com dimensões NxN\n",
    "#     n_classes = len(classes)\n",
    "#     confusion_matrix = np.zeros((n_classes, n_classes))\n",
    "\n",
    "#     # preencher a matriz de confusão com as contagens\n",
    "#     for i in range(len(y_true)):\n",
    "#         true_class = y_true[i]\n",
    "#         pred_class = y_pred[i]\n",
    "#         true_index = np.where(classes == true_class)[0][0]\n",
    "#         pred_index = np.where(classes == pred_class)[0][0]\n",
    "#         confusion_matrix[true_index][pred_index] += 1\n",
    "\n",
    "#     # imprimir a matriz de confusão\n",
    "#     return confusion_matrix"
   ]
  },
  {
   "cell_type": "code",
   "execution_count": 19,
   "id": "d9243280",
   "metadata": {
    "scrolled": false
   },
   "outputs": [],
   "source": [
    "# y_pred_linr_copy = y_pred_linr.copy()\n",
    "# y_pred_logr_copy = y_pred_logr.copy()\n",
    "# y_pred_pla_copy = y_pred_pla.copy()\n",
    "# models_to_print = [\"Regressão Linear\",\n",
    "#                    \"Regressão Logística\",\n",
    "#                    \"Pocket PLA\"]\n",
    "\n",
    "\n",
    "# for i in [0, 1, 4]:\n",
    "#     print(\"-\"*70)\n",
    "#     if i != 4:\n",
    "#         print(f\"{i} x {[0, 1, 4, 5][i+1:]}\")\n",
    "#     else:\n",
    "#         print(f\"{i} x [5]\")\n",
    "#     print(\"-\"*70)\n",
    "#     for c, y_pred in enumerate([y_pred_linr_copy, y_pred_logr_copy, y_pred_pla_copy]):\n",
    "#         print(models_to_print[c], end=\"\\n\\n\")\n",
    "#         print(metrics.classification_report_all(y_test, y_pred, real_class = i))    \n",
    "#         print(\"-\"*70)\n",
    "        \n",
    "        \n",
    "#     y_pred_linr_copy = y_pred_linr_copy[y_pred_linr_copy != i]\n",
    "#     y_pred_logr_copy = y_pred_logr_copy[y_pred_logr_copy != i]\n",
    "#     y_pred_pla_copy = y_pred_pla_copy[y_pred_pla_copy != i]"
   ]
  },
  {
   "cell_type": "code",
   "execution_count": 20,
   "id": "a6ad3b7a",
   "metadata": {},
   "outputs": [],
   "source": [
    "# def report(cm):    \n",
    "#     # calcular as métricas de avaliação a partir da matriz de confusão\n",
    "#     TP = np.diag(cm)\n",
    "#     TN = np.sum(cm) - (np.sum(TP) + np.sum(cm.diagonal(-1)))\n",
    "#     FP = np.sum(cm, axis=0) - TP\n",
    "#     FN = np.sum(cm, axis=1) - TP\n",
    "\n",
    "#     accuracy = (TP + TN) / np.sum(cm)\n",
    "#     precision = TP / (TP + FP)\n",
    "#     recall = TP / (TP + FN)\n",
    "#     f1_score = 2 * (precision * recall) / (precision + recall)\n",
    "\n",
    "#     # imprimir as métricas de avaliação\n",
    "#     print('Acurácia:', accuracy)\n",
    "#     print('Precisão:', precision)\n",
    "#     print('Recall:', recall)\n",
    "#     print('F1 Score:', f1_score)"
   ]
  },
  {
   "cell_type": "code",
   "execution_count": 21,
   "id": "ea31c04f",
   "metadata": {},
   "outputs": [],
   "source": [
    "# for c, y_pred in enumerate([y_pred_linr, y_pred_logr, y_pred_pla]):\n",
    "#     print(models_to_print[c], end=\"\\n\\n\")\n",
    "#     c_m = cm(y_test, y_pred)\n",
    "#     print(c_m)\n",
    "#     report(c_m)\n",
    "#     print(\"-\"*70)"
   ]
  },
  {
   "cell_type": "code",
   "execution_count": null,
   "id": "973808f6",
   "metadata": {},
   "outputs": [],
   "source": []
  }
 ],
 "metadata": {
  "kernelspec": {
   "display_name": "Python 3 (ipykernel)",
   "language": "python",
   "name": "python3"
  },
  "language_info": {
   "codemirror_mode": {
    "name": "ipython",
    "version": 3
   },
   "file_extension": ".py",
   "mimetype": "text/x-python",
   "name": "python",
   "nbconvert_exporter": "python",
   "pygments_lexer": "ipython3",
   "version": "3.7.12"
  },
  "toc": {
   "base_numbering": 1,
   "nav_menu": {},
   "number_sections": true,
   "sideBar": true,
   "skip_h1_title": false,
   "title_cell": "Table of Contents",
   "title_sidebar": "Contents",
   "toc_cell": false,
   "toc_position": {},
   "toc_section_display": true,
   "toc_window_display": false
  },
  "varInspector": {
   "cols": {
    "lenName": 16,
    "lenType": 16,
    "lenVar": 40
   },
   "kernels_config": {
    "python": {
     "delete_cmd_postfix": "",
     "delete_cmd_prefix": "del ",
     "library": "var_list.py",
     "varRefreshCmd": "print(var_dic_list())"
    },
    "r": {
     "delete_cmd_postfix": ") ",
     "delete_cmd_prefix": "rm(",
     "library": "var_list.r",
     "varRefreshCmd": "cat(var_dic_list()) "
    }
   },
   "types_to_exclude": [
    "module",
    "function",
    "builtin_function_or_method",
    "instance",
    "_Feature"
   ],
   "window_display": false
  }
 },
 "nbformat": 4,
 "nbformat_minor": 5
}
