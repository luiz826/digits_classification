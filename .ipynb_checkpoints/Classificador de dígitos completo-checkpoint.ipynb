{
 "cells": [
  {
   "cell_type": "markdown",
   "id": "181bf21e",
   "metadata": {},
   "source": [
    "# Classificador de dígitos completo\n",
    "\n",
    "### Alunos:\n",
    "\n",
    "- Caio Lucas da Silva Chacon - 20200025769\n",
    "- Luiz Fernando Costa dos Santos - 20200025446"
   ]
  },
  {
   "cell_type": "code",
   "execution_count": 1,
   "id": "58007f26",
   "metadata": {},
   "outputs": [],
   "source": [
    "import pandas as pd\n",
    "import numpy as np\n",
    "import matplotlib.pyplot as plt\n",
    "\n",
    "\n",
    "import src.linear_models as lm\n",
    "import src.classifier_all_utils as utils\n",
    "import src.metrics as metrics"
   ]
  },
  {
   "cell_type": "code",
   "execution_count": 2,
   "id": "7773935f",
   "metadata": {},
   "outputs": [],
   "source": [
    "train = pd.read_csv(\"./data/train_redu.csv\")\n",
    "test = pd.read_csv(\"./data/test_redu.csv\")"
   ]
  },
  {
   "cell_type": "markdown",
   "id": "5896e87a",
   "metadata": {},
   "source": [
    "# Treinamento"
   ]
  },
  {
   "cell_type": "code",
   "execution_count": 3,
   "id": "eb54dcbf",
   "metadata": {},
   "outputs": [
    {
     "name": "stderr",
     "output_type": "stream",
     "text": [
      "/home/luiz/Documents/UFPB/am/project/digits_classification/src/linear_models.py:144: SettingWithCopyWarning: \n",
      "A value is trying to be set on a copy of a slice from a DataFrame.\n",
      "Try using .loc[row_indexer,col_indexer] = value instead\n",
      "\n",
      "See the caveats in the documentation: https://pandas.pydata.org/pandas-docs/stable/user_guide/indexing.html#returning-a-view-versus-a-copy\n",
      "  train[\"tmp_label\"] = train[\"label\"].map(lambda x: 1 if x == i else -1)\n"
     ]
    }
   ],
   "source": [
    "linear_reg = lm.OneVsAll(\"lin\")\n",
    "linear_reg.fit(train)"
   ]
  },
  {
   "cell_type": "code",
   "execution_count": 4,
   "id": "4e81b7fe",
   "metadata": {},
   "outputs": [
    {
     "name": "stderr",
     "output_type": "stream",
     "text": [
      "/home/luiz/Documents/UFPB/am/project/digits_classification/src/linear_models.py:144: SettingWithCopyWarning: \n",
      "A value is trying to be set on a copy of a slice from a DataFrame.\n",
      "Try using .loc[row_indexer,col_indexer] = value instead\n",
      "\n",
      "See the caveats in the documentation: https://pandas.pydata.org/pandas-docs/stable/user_guide/indexing.html#returning-a-view-versus-a-copy\n",
      "  train[\"tmp_label\"] = train[\"label\"].map(lambda x: 1 if x == i else -1)\n",
      "/home/luiz/Documents/UFPB/am/project/digits_classification/src/linear_models.py:52: RuntimeWarning: overflow encountered in exp\n",
      "  gt = -(1/N) * sum([xi*yi / (1+np.exp(yi*w.dot(xi))) for xi, yi in zip(batchX, batchY)])\n",
      "/home/luiz/Documents/UFPB/am/project/digits_classification/src/linear_models.py:52: RuntimeWarning: overflow encountered in exp\n",
      "  gt = -(1/N) * sum([xi*yi / (1+np.exp(yi*w.dot(xi))) for xi, yi in zip(batchX, batchY)])\n"
     ]
    }
   ],
   "source": [
    "logistic_reg = lm.OneVsAll(\"log\", eta=0.3, bs=300, tmax=100000)\n",
    "logistic_reg.fit(train)"
   ]
  },
  {
   "cell_type": "code",
   "execution_count": 6,
   "id": "65cc5b7e",
   "metadata": {},
   "outputs": [
    {
     "name": "stderr",
     "output_type": "stream",
     "text": [
      "/home/luiz/Documents/UFPB/am/project/digits_classification/src/linear_models.py:144: SettingWithCopyWarning: \n",
      "A value is trying to be set on a copy of a slice from a DataFrame.\n",
      "Try using .loc[row_indexer,col_indexer] = value instead\n",
      "\n",
      "See the caveats in the documentation: https://pandas.pydata.org/pandas-docs/stable/user_guide/indexing.html#returning-a-view-versus-a-copy\n",
      "  train[\"tmp_label\"] = train[\"label\"].map(lambda x: 1 if x == i else -1)\n"
     ]
    }
   ],
   "source": [
    "pocket_pla = lm.OneVsAll(\"pla\", tmax=15000)\n",
    "pocket_pla.fit(train)"
   ]
  },
  {
   "cell_type": "markdown",
   "id": "aae5f712",
   "metadata": {},
   "source": [
    "# Predição"
   ]
  },
  {
   "cell_type": "code",
   "execution_count": 7,
   "id": "8e587dae",
   "metadata": {},
   "outputs": [],
   "source": [
    "X_test = test[[\"intensidade\", \"simetria\"]].values\n",
    "X_test = np.c_[np.ones(X_test.shape[0]), X_test]  \n",
    "y_test = test[\"label\"].values"
   ]
  },
  {
   "cell_type": "code",
   "execution_count": 9,
   "id": "6f67b875",
   "metadata": {},
   "outputs": [],
   "source": [
    "y_pred_linr = linear_reg.predict(X_test)\n",
    "y_pred_logr = logistic_reg.predict(X_test)\n",
    "y_pred_pla = pocket_pla.predict(X_test)"
   ]
  },
  {
   "cell_type": "markdown",
   "id": "8428387b",
   "metadata": {},
   "source": [
    "# Plots"
   ]
  },
  {
   "cell_type": "markdown",
   "id": "9add97f9",
   "metadata": {},
   "source": [
    "# Avaliação"
   ]
  },
  {
   "cell_type": "markdown",
   "id": "4cb4c04c",
   "metadata": {},
   "source": [
    "### Regressão Linear"
   ]
  },
  {
   "cell_type": "code",
   "execution_count": 13,
   "id": "28ff9d8b",
   "metadata": {},
   "outputs": [
    {
     "name": "stdout",
     "output_type": "stream",
     "text": [
      "              precision    recall  f1-score   support\n",
      "\n",
      "          0       1.00      0.32      0.49       174\n",
      "           1       0.61      1.00      0.76        941\n",
      "\n",
      "    accuracy                           0.67       1115\n"
     ]
    }
   ],
   "source": [
    "print(metrics.classification_report(y_test, y_pred_linr, class_1 = 1, class_2 = 1))"
   ]
  },
  {
   "cell_type": "code",
   "execution_count": 14,
   "id": "f7a8dd7c",
   "metadata": {
    "scrolled": true
   },
   "outputs": [
    {
     "data": {
      "text/plain": [
       "array([[292,   0],\n",
       "       [  0, 291]])"
      ]
     },
     "execution_count": 14,
     "metadata": {},
     "output_type": "execute_result"
    }
   ],
   "source": [
    "metrics.confusion_matrix(y_test, y_pred_linr, class_1 = 1, class_2 = 5)"
   ]
  },
  {
   "cell_type": "markdown",
   "id": "9fa70d91",
   "metadata": {},
   "source": [
    "### Regressão Logística"
   ]
  },
  {
   "cell_type": "code",
   "execution_count": 15,
   "id": "c56042c5",
   "metadata": {},
   "outputs": [
    {
     "name": "stdout",
     "output_type": "stream",
     "text": [
      "              precision    recall  f1-score   support\n",
      "\n",
      "          1       0.96      0.88      0.92       267\n",
      "           5       0.89      0.97      0.93        316\n",
      "\n",
      "    accuracy                           0.92       583\n"
     ]
    }
   ],
   "source": [
    "print(metrics.classification_report(y_test, y_pred_logr, class_1 = 1, class_2 = 5))"
   ]
  },
  {
   "cell_type": "code",
   "execution_count": 16,
   "id": "756fb3e2",
   "metadata": {},
   "outputs": [
    {
     "data": {
      "text/plain": [
       "array([[257,  10],\n",
       "       [ 35, 281]])"
      ]
     },
     "execution_count": 16,
     "metadata": {},
     "output_type": "execute_result"
    }
   ],
   "source": [
    "metrics.confusion_matrix(y_test, y_pred_logr, class_1 = 1, class_2 = 5)"
   ]
  },
  {
   "cell_type": "markdown",
   "id": "4cc63693",
   "metadata": {},
   "source": [
    "### Perceptron"
   ]
  },
  {
   "cell_type": "code",
   "execution_count": 17,
   "id": "3359d0ff",
   "metadata": {},
   "outputs": [
    {
     "name": "stdout",
     "output_type": "stream",
     "text": [
      "              precision    recall  f1-score   support\n",
      "\n",
      "          1       1.00      1.00      1.00       292\n",
      "           5       1.00      1.00      1.00        291\n",
      "\n",
      "    accuracy                           1.00       583\n"
     ]
    }
   ],
   "source": [
    "print(metrics.classification_report(y_test, y_pred_pla, class_1 = 1, class_2 = 5))"
   ]
  },
  {
   "cell_type": "code",
   "execution_count": 18,
   "id": "b27bc9eb",
   "metadata": {},
   "outputs": [
    {
     "data": {
      "text/plain": [
       "array([[292,   0],\n",
       "       [  0, 291]])"
      ]
     },
     "execution_count": 18,
     "metadata": {},
     "output_type": "execute_result"
    }
   ],
   "source": [
    "metrics.confusion_matrix(y_test, y_pred_pla, class_1 = 1, class_2 = 5)"
   ]
  },
  {
   "cell_type": "code",
   "execution_count": null,
   "id": "ea31c04f",
   "metadata": {},
   "outputs": [],
   "source": []
  }
 ],
 "metadata": {
  "kernelspec": {
   "display_name": "Python 3 (ipykernel)",
   "language": "python",
   "name": "python3"
  },
  "language_info": {
   "codemirror_mode": {
    "name": "ipython",
    "version": 3
   },
   "file_extension": ".py",
   "mimetype": "text/x-python",
   "name": "python",
   "nbconvert_exporter": "python",
   "pygments_lexer": "ipython3",
   "version": "3.10.6"
  }
 },
 "nbformat": 4,
 "nbformat_minor": 5
}
