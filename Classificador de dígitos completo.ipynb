{
 "cells": [
  {
   "cell_type": "markdown",
   "id": "181bf21e",
   "metadata": {},
   "source": [
    "# Classificador de dígitos completo\n",
    "\n",
    "### Alunos:\n",
    "\n",
    "- Caio Lucas da Silva Chacon - 20200025769\n",
    "- Luiz Fernando Costa dos Santos - 20200025446"
   ]
  },
  {
   "cell_type": "code",
   "execution_count": 1,
   "id": "58007f26",
   "metadata": {
    "ExecuteTime": {
     "end_time": "2023-04-26T14:18:45.011660Z",
     "start_time": "2023-04-26T14:18:43.855758Z"
    }
   },
   "outputs": [],
   "source": [
    "import pandas as pd\n",
    "import numpy as np\n",
    "import matplotlib.pyplot as plt\n",
    "\n",
    "import src.linear_models as lm\n",
    "import src.classifier_all_utils as utils\n",
    "import src.metrics as metrics"
   ]
  },
  {
   "cell_type": "code",
   "execution_count": 2,
   "id": "7773935f",
   "metadata": {
    "ExecuteTime": {
     "end_time": "2023-04-26T14:18:45.019732Z",
     "start_time": "2023-04-26T14:18:45.013260Z"
    }
   },
   "outputs": [],
   "source": [
    "train = pd.read_csv(\"./data/train_redu.csv\")\n",
    "test = pd.read_csv(\"./data/test_redu.csv\")"
   ]
  },
  {
   "cell_type": "markdown",
   "id": "5896e87a",
   "metadata": {},
   "source": [
    "# Treinamento"
   ]
  },
  {
   "cell_type": "code",
   "execution_count": 3,
   "id": "eb54dcbf",
   "metadata": {
    "ExecuteTime": {
     "end_time": "2023-04-26T14:18:45.031284Z",
     "start_time": "2023-04-26T14:18:45.020799Z"
    }
   },
   "outputs": [
    {
     "name": "stderr",
     "output_type": "stream",
     "text": [
      "/Users/luiz.costa/univ/digits_classification/src/linear_models.py:142: SettingWithCopyWarning: \n",
      "A value is trying to be set on a copy of a slice from a DataFrame.\n",
      "Try using .loc[row_indexer,col_indexer] = value instead\n",
      "\n",
      "See the caveats in the documentation: https://pandas.pydata.org/pandas-docs/stable/user_guide/indexing.html#returning-a-view-versus-a-copy\n",
      "  train[\"tmp_label\"] = train[\"label\"].map(lambda x: 1 if x == i else -1)\n"
     ]
    }
   ],
   "source": [
    "linear_reg = lm.OneVsAll(\"lin\")\n",
    "linear_reg.fit(train)"
   ]
  },
  {
   "cell_type": "code",
   "execution_count": null,
   "id": "4e81b7fe",
   "metadata": {
    "ExecuteTime": {
     "start_time": "2023-04-26T14:18:43.857Z"
    },
    "scrolled": false
   },
   "outputs": [],
   "source": [
    "logistic_reg = lm.OneVsAll(\"log\", eta=0.1, bs=512, tmax=1000000, lam=1e-6)\n",
    "logistic_reg.fit(train)"
   ]
  },
  {
   "cell_type": "code",
   "execution_count": null,
   "id": "65cc5b7e",
   "metadata": {
    "ExecuteTime": {
     "start_time": "2023-04-26T14:18:43.857Z"
    }
   },
   "outputs": [],
   "source": [
    "pocket_pla = lm.OneVsAll(\"pla\", tmax=1500000)\n",
    "pocket_pla.fit(train)"
   ]
  },
  {
   "cell_type": "markdown",
   "id": "aae5f712",
   "metadata": {},
   "source": [
    "# Predição"
   ]
  },
  {
   "cell_type": "code",
   "execution_count": null,
   "id": "8e587dae",
   "metadata": {
    "ExecuteTime": {
     "start_time": "2023-04-26T14:18:43.858Z"
    }
   },
   "outputs": [],
   "source": [
    "X_test = test[[\"intensidade\", \"simetria\"]].values\n",
    "X_test = np.c_[np.ones(X_test.shape[0]), X_test]          \n",
    "y_test = test[\"label\"].values"
   ]
  },
  {
   "cell_type": "code",
   "execution_count": null,
   "id": "6f67b875",
   "metadata": {
    "ExecuteTime": {
     "start_time": "2023-04-26T14:18:43.858Z"
    }
   },
   "outputs": [],
   "source": [
    "y_pred_linr = [linear_reg.predict_one(i) for i in X_test]\n",
    "y_pred_logr = [logistic_reg.predict_one(i) for i in X_test]\n",
    "y_pred_pla = [pocket_pla.predict_one(i) for i in X_test]"
   ]
  },
  {
   "cell_type": "markdown",
   "id": "291895c8",
   "metadata": {},
   "source": [
    "### Regressão Linear"
   ]
  },
  {
   "cell_type": "code",
   "execution_count": null,
   "id": "97d4498f",
   "metadata": {
    "ExecuteTime": {
     "start_time": "2023-04-26T14:18:43.859Z"
    }
   },
   "outputs": [],
   "source": [
    "utils.plot_all(test, linear_reg.get_w())"
   ]
  },
  {
   "cell_type": "markdown",
   "id": "97b499cb",
   "metadata": {},
   "source": [
    "### Regressão Logística"
   ]
  },
  {
   "cell_type": "code",
   "execution_count": null,
   "id": "bb9b30f1",
   "metadata": {
    "ExecuteTime": {
     "start_time": "2023-04-26T14:18:43.860Z"
    }
   },
   "outputs": [],
   "source": [
    "utils.plot_all(test, logistic_reg.get_w())"
   ]
  },
  {
   "cell_type": "markdown",
   "id": "a4fdbd5c",
   "metadata": {},
   "source": [
    "### Perceptron"
   ]
  },
  {
   "cell_type": "code",
   "execution_count": null,
   "id": "b46de95f",
   "metadata": {
    "ExecuteTime": {
     "start_time": "2023-04-26T14:18:43.860Z"
    }
   },
   "outputs": [],
   "source": [
    "utils.plot_all(test, pocket_pla.get_w())"
   ]
  },
  {
   "cell_type": "markdown",
   "id": "9add97f9",
   "metadata": {},
   "source": [
    "# Avaliação"
   ]
  },
  {
   "cell_type": "markdown",
   "id": "8f375f27",
   "metadata": {},
   "source": [
    "### Matriz de Confusão"
   ]
  },
  {
   "cell_type": "code",
   "execution_count": null,
   "id": "8f4f6eb2",
   "metadata": {
    "ExecuteTime": {
     "start_time": "2023-04-26T14:18:43.861Z"
    }
   },
   "outputs": [],
   "source": [
    "classes = CLASSES\n",
    "classes_str = list(map(CLASSES, str))\n",
    "\n",
    "cm_1 = metrics.confusion_matrix(y_test, y_pred_linr, classes)\n",
    "cm_2 = metrics.confusion_matrix(y_test, y_pred_logr, classes)\n",
    "cm_3 = metrics.confusion_matrix(y_test, y_pred_pla, classes)\n",
    "\n",
    "df_cm_1 = pd.DataFrame(cm_1, index=classes_str, columns=classes_str)\n",
    "df_cm_2 = pd.DataFrame(cm_2, index=classes_str, columns=classes_str)\n",
    "df_cm_3 = pd.DataFrame(cm_3, index=classes_str, columns=classes_str)\n",
    "\n",
    "fig, ax = plt.subplots(figsize = (15,3), nrows=1, ncols=3)\n",
    "sn.heatmap(df_cm_1, annot=True, ax=ax[0])\n",
    "sn.heatmap(df_cm_2, annot=True, ax=ax[1])\n",
    "sn.heatmap(df_cm_3, annot=True, ax=ax[2])\n",
    "ax[0].set_title(\"Regressão Linear\", fontsize=10)\n",
    "ax[1].set_title(\"Regressão Logística\", fontsize=10)\n",
    "ax[2].set_title(\"Perceptron\", fontsize=10)\n",
    "plt.show()"
   ]
  },
  {
   "cell_type": "markdown",
   "id": "c0eaa4f5",
   "metadata": {},
   "source": [
    "### Classification Reports"
   ]
  },
  {
   "cell_type": "code",
   "execution_count": null,
   "id": "9a267555",
   "metadata": {
    "ExecuteTime": {
     "start_time": "2023-04-26T14:18:43.862Z"
    }
   },
   "outputs": [],
   "source": [
    "print(\"Regressão Linear\\n\")\n",
    "print(metrics.classification_report(cm_1))\n",
    "print(\"\\nRegressão Logística\\n\")\n",
    "print(metrics.classification_report(cm_2))\n",
    "print(\"\\nPerceptron\\n\")\n",
    "print(metrics.classification_report(cm_3))"
   ]
  }
 ],
 "metadata": {
  "kernelspec": {
   "display_name": "Python 3 (ipykernel)",
   "language": "python",
   "name": "python3"
  },
  "language_info": {
   "codemirror_mode": {
    "name": "ipython",
    "version": 3
   },
   "file_extension": ".py",
   "mimetype": "text/x-python",
   "name": "python",
   "nbconvert_exporter": "python",
   "pygments_lexer": "ipython3",
   "version": "3.7.12"
  },
  "toc": {
   "base_numbering": 1,
   "nav_menu": {},
   "number_sections": true,
   "sideBar": true,
   "skip_h1_title": false,
   "title_cell": "Table of Contents",
   "title_sidebar": "Contents",
   "toc_cell": false,
   "toc_position": {},
   "toc_section_display": true,
   "toc_window_display": false
  },
  "varInspector": {
   "cols": {
    "lenName": 16,
    "lenType": 16,
    "lenVar": 40
   },
   "kernels_config": {
    "python": {
     "delete_cmd_postfix": "",
     "delete_cmd_prefix": "del ",
     "library": "var_list.py",
     "varRefreshCmd": "print(var_dic_list())"
    },
    "r": {
     "delete_cmd_postfix": ") ",
     "delete_cmd_prefix": "rm(",
     "library": "var_list.r",
     "varRefreshCmd": "cat(var_dic_list()) "
    }
   },
   "types_to_exclude": [
    "module",
    "function",
    "builtin_function_or_method",
    "instance",
    "_Feature"
   ],
   "window_display": false
  }
 },
 "nbformat": 4,
 "nbformat_minor": 5
}
