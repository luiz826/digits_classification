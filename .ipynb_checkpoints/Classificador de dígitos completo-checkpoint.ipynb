{
 "cells": [
  {
   "cell_type": "markdown",
   "id": "181bf21e",
   "metadata": {},
   "source": [
    "# Classificador de dígitos completo\n",
    "\n",
    "### Alunos:\n",
    "\n",
    "- Caio Lucas da Silva Chacon - 20200025769\n",
    "- Luiz Fernando Costa dos Santos - 20200025446"
   ]
  },
  {
   "cell_type": "code",
   "execution_count": 1,
   "id": "58007f26",
   "metadata": {},
   "outputs": [],
   "source": [
    "import pandas as pd\n",
    "import numpy as np\n",
    "import matplotlib.pyplot as plt\n",
    "\n",
    "\n",
    "import src.linear_models as lm\n",
    "import src.classifier_all_utils as utils\n",
    "import src.metrics as metrics"
   ]
  },
  {
   "cell_type": "code",
   "execution_count": 2,
   "id": "7773935f",
   "metadata": {},
   "outputs": [],
   "source": [
    "train = pd.read_csv(\"./data/train_redu.csv\")\n",
    "test = pd.read_csv(\"./data/test_redu.csv\")"
   ]
  },
  {
   "cell_type": "markdown",
   "id": "5896e87a",
   "metadata": {},
   "source": [
    "# Treinamento"
   ]
  },
  {
   "cell_type": "code",
   "execution_count": 3,
   "id": "eb54dcbf",
   "metadata": {},
   "outputs": [
    {
     "name": "stderr",
     "output_type": "stream",
     "text": [
      "/home/luiz/Documents/UFPB/am/project/digits_classification/src/linear_models.py:144: SettingWithCopyWarning: \n",
      "A value is trying to be set on a copy of a slice from a DataFrame.\n",
      "Try using .loc[row_indexer,col_indexer] = value instead\n",
      "\n",
      "See the caveats in the documentation: https://pandas.pydata.org/pandas-docs/stable/user_guide/indexing.html#returning-a-view-versus-a-copy\n",
      "  train[\"tmp_label\"] = train[\"label\"].map(lambda x: 1 if x == i else -1)\n"
     ]
    }
   ],
   "source": [
    "linear_reg = lm.OneVsAll(\"lin\")\n",
    "linear_reg.fit(train)"
   ]
  },
  {
   "cell_type": "code",
   "execution_count": 4,
   "id": "4e81b7fe",
   "metadata": {},
   "outputs": [
    {
     "name": "stderr",
     "output_type": "stream",
     "text": [
      "/home/luiz/Documents/UFPB/am/project/digits_classification/src/linear_models.py:52: RuntimeWarning: overflow encountered in exp\n",
      "  gt = -(1/N) * sum([xi*yi / (1+np.exp(yi*w.dot(xi))) for xi, yi in zip(batchX, batchY)])\n",
      "/home/luiz/Documents/UFPB/am/project/digits_classification/src/linear_models.py:144: SettingWithCopyWarning: \n",
      "A value is trying to be set on a copy of a slice from a DataFrame.\n",
      "Try using .loc[row_indexer,col_indexer] = value instead\n",
      "\n",
      "See the caveats in the documentation: https://pandas.pydata.org/pandas-docs/stable/user_guide/indexing.html#returning-a-view-versus-a-copy\n",
      "  train[\"tmp_label\"] = train[\"label\"].map(lambda x: 1 if x == i else -1)\n",
      "/home/luiz/Documents/UFPB/am/project/digits_classification/src/linear_models.py:52: RuntimeWarning: overflow encountered in exp\n",
      "  gt = -(1/N) * sum([xi*yi / (1+np.exp(yi*w.dot(xi))) for xi, yi in zip(batchX, batchY)])\n",
      "/home/luiz/Documents/UFPB/am/project/digits_classification/src/linear_models.py:52: RuntimeWarning: overflow encountered in exp\n",
      "  gt = -(1/N) * sum([xi*yi / (1+np.exp(yi*w.dot(xi))) for xi, yi in zip(batchX, batchY)])\n"
     ]
    }
   ],
   "source": [
    "logistic_reg = lm.OneVsAll(\"log\", eta=0.3, bs=300, tmax=100000)\n",
    "logistic_reg.fit(train)"
   ]
  },
  {
   "cell_type": "code",
   "execution_count": 5,
   "id": "65cc5b7e",
   "metadata": {},
   "outputs": [
    {
     "name": "stderr",
     "output_type": "stream",
     "text": [
      "/home/luiz/Documents/UFPB/am/project/digits_classification/src/linear_models.py:144: SettingWithCopyWarning: \n",
      "A value is trying to be set on a copy of a slice from a DataFrame.\n",
      "Try using .loc[row_indexer,col_indexer] = value instead\n",
      "\n",
      "See the caveats in the documentation: https://pandas.pydata.org/pandas-docs/stable/user_guide/indexing.html#returning-a-view-versus-a-copy\n",
      "  train[\"tmp_label\"] = train[\"label\"].map(lambda x: 1 if x == i else -1)\n"
     ]
    }
   ],
   "source": [
    "pocket_pla = lm.OneVsAll(\"pla\", tmax=15000)\n",
    "pocket_pla.fit(train)"
   ]
  },
  {
   "cell_type": "markdown",
   "id": "aae5f712",
   "metadata": {},
   "source": [
    "# Predição"
   ]
  },
  {
   "cell_type": "code",
   "execution_count": 6,
   "id": "8e587dae",
   "metadata": {},
   "outputs": [],
   "source": [
    "X_test = test[[\"intensidade\", \"simetria\"]].values\n",
    "X_test = np.c_[np.ones(X_test.shape[0]), X_test]  \n",
    "y_test = test[\"label\"].values"
   ]
  },
  {
   "cell_type": "code",
   "execution_count": 7,
   "id": "1fd7265e",
   "metadata": {},
   "outputs": [
    {
     "data": {
      "text/html": [
       "<div>\n",
       "<style scoped>\n",
       "    .dataframe tbody tr th:only-of-type {\n",
       "        vertical-align: middle;\n",
       "    }\n",
       "\n",
       "    .dataframe tbody tr th {\n",
       "        vertical-align: top;\n",
       "    }\n",
       "\n",
       "    .dataframe thead th {\n",
       "        text-align: right;\n",
       "    }\n",
       "</style>\n",
       "<table border=\"1\" class=\"dataframe\">\n",
       "  <thead>\n",
       "    <tr style=\"text-align: right;\">\n",
       "      <th></th>\n",
       "      <th>label</th>\n",
       "      <th>intensidade</th>\n",
       "      <th>simetria</th>\n",
       "    </tr>\n",
       "  </thead>\n",
       "  <tbody>\n",
       "    <tr>\n",
       "      <th>0</th>\n",
       "      <td>0</td>\n",
       "      <td>147.933333</td>\n",
       "      <td>130.470588</td>\n",
       "    </tr>\n",
       "    <tr>\n",
       "      <th>1</th>\n",
       "      <td>0</td>\n",
       "      <td>131.054902</td>\n",
       "      <td>122.721569</td>\n",
       "    </tr>\n",
       "    <tr>\n",
       "      <th>2</th>\n",
       "      <td>0</td>\n",
       "      <td>134.890196</td>\n",
       "      <td>151.725490</td>\n",
       "    </tr>\n",
       "    <tr>\n",
       "      <th>3</th>\n",
       "      <td>0</td>\n",
       "      <td>139.976471</td>\n",
       "      <td>133.921569</td>\n",
       "    </tr>\n",
       "    <tr>\n",
       "      <th>4</th>\n",
       "      <td>0</td>\n",
       "      <td>129.580392</td>\n",
       "      <td>130.274510</td>\n",
       "    </tr>\n",
       "    <tr>\n",
       "      <th>...</th>\n",
       "      <td>...</td>\n",
       "      <td>...</td>\n",
       "      <td>...</td>\n",
       "    </tr>\n",
       "    <tr>\n",
       "      <th>1110</th>\n",
       "      <td>5</td>\n",
       "      <td>96.121569</td>\n",
       "      <td>139.521569</td>\n",
       "    </tr>\n",
       "    <tr>\n",
       "      <th>1111</th>\n",
       "      <td>5</td>\n",
       "      <td>98.439216</td>\n",
       "      <td>130.729412</td>\n",
       "    </tr>\n",
       "    <tr>\n",
       "      <th>1112</th>\n",
       "      <td>5</td>\n",
       "      <td>95.141176</td>\n",
       "      <td>122.227451</td>\n",
       "    </tr>\n",
       "    <tr>\n",
       "      <th>1113</th>\n",
       "      <td>5</td>\n",
       "      <td>106.882353</td>\n",
       "      <td>128.007843</td>\n",
       "    </tr>\n",
       "    <tr>\n",
       "      <th>1114</th>\n",
       "      <td>5</td>\n",
       "      <td>117.639216</td>\n",
       "      <td>123.380392</td>\n",
       "    </tr>\n",
       "  </tbody>\n",
       "</table>\n",
       "<p>1115 rows × 3 columns</p>\n",
       "</div>"
      ],
      "text/plain": [
       "      label  intensidade    simetria\n",
       "0         0   147.933333  130.470588\n",
       "1         0   131.054902  122.721569\n",
       "2         0   134.890196  151.725490\n",
       "3         0   139.976471  133.921569\n",
       "4         0   129.580392  130.274510\n",
       "...     ...          ...         ...\n",
       "1110      5    96.121569  139.521569\n",
       "1111      5    98.439216  130.729412\n",
       "1112      5    95.141176  122.227451\n",
       "1113      5   106.882353  128.007843\n",
       "1114      5   117.639216  123.380392\n",
       "\n",
       "[1115 rows x 3 columns]"
      ]
     },
     "execution_count": 7,
     "metadata": {},
     "output_type": "execute_result"
    }
   ],
   "source": [
    "test"
   ]
  },
  {
   "cell_type": "code",
   "execution_count": 8,
   "id": "6f67b875",
   "metadata": {},
   "outputs": [],
   "source": [
    "y_pred_linr = linear_reg.predict(X_test)\n",
    "y_pred_logr = logistic_reg.predict(X_test)\n",
    "y_pred_pla = pocket_pla.predict(X_test)"
   ]
  },
  {
   "cell_type": "markdown",
   "id": "9add97f9",
   "metadata": {},
   "source": [
    "# Avaliação"
   ]
  },
  {
   "cell_type": "code",
   "execution_count": 9,
   "id": "8f4f6eb2",
   "metadata": {},
   "outputs": [
    {
     "data": {
      "text/plain": [
       "array([[174,   0,   0,  44],\n",
       "       [  0,   0, 292,   0],\n",
       "       [  0,   0, 306,   8],\n",
       "       [  0,   0,  24, 267]])"
      ]
     },
     "execution_count": 9,
     "metadata": {},
     "output_type": "execute_result"
    }
   ],
   "source": [
    "from sklearn.metrics import confusion_matrix\n",
    "\n",
    "confusion_matrix(y_test, y_pred_linr)"
   ]
  },
  {
   "cell_type": "code",
   "execution_count": 14,
   "id": "843cd37a",
   "metadata": {},
   "outputs": [
    {
     "data": {
      "text/plain": [
       "0.6699551569506726"
      ]
     },
     "execution_count": 14,
     "metadata": {},
     "output_type": "execute_result"
    }
   ],
   "source": [
    "sum(y_pred_linr == y_test) / len(y_pred_linr)"
   ]
  },
  {
   "cell_type": "code",
   "execution_count": 26,
   "id": "56f1cc87",
   "metadata": {},
   "outputs": [],
   "source": [
    "def cm(y_true, y_pred):    \n",
    "    # obter as classes únicas\n",
    "    classes = np.unique(y_true)\n",
    "\n",
    "    # criar uma matriz de zeros com dimensões NxN\n",
    "    n_classes = len(classes)\n",
    "    confusion_matrix = np.zeros((n_classes, n_classes))\n",
    "\n",
    "    # preencher a matriz de confusão com as contagens\n",
    "    for i in range(len(y_true)):\n",
    "        true_class = y_true[i]\n",
    "        pred_class = y_pred[i]\n",
    "        true_index = np.where(classes == true_class)[0][0]\n",
    "        pred_index = np.where(classes == pred_class)[0][0]\n",
    "        confusion_matrix[true_index][pred_index] += 1\n",
    "\n",
    "    # imprimir a matriz de confusão\n",
    "    return confusion_matrix"
   ]
  },
  {
   "cell_type": "code",
   "execution_count": 19,
   "id": "d9243280",
   "metadata": {
    "scrolled": false
   },
   "outputs": [
    {
     "name": "stdout",
     "output_type": "stream",
     "text": [
      "----------------------------------------------------------------------\n",
      "0 x [1, 4, 5]\n",
      "----------------------------------------------------------------------\n",
      "Regressão Linear\n",
      "\n",
      "Matriz de Confusão: \n",
      " [[174   0]\n",
      " [ 44 897]]\n",
      "              precision    recall  f1-score   support\n",
      "\n",
      "             1       1.00      0.80      0.89       0\n",
      "           -1       0.95      1.00      0.98        1115\n",
      "\n",
      "    accuracy                           0.96       1115\n",
      "----------------------------------------------------------------------\n",
      "Regressão Logística\n",
      "\n",
      "Matriz de Confusão: \n",
      " [[  0   0]\n",
      " [218 897]]\n",
      "              precision    recall  f1-score   support\n",
      "\n",
      "             1       0.00      0.00      0.00       233\n",
      "           -1       0.80      1.00      0.89        882\n",
      "\n",
      "    accuracy                           0.80       1115\n",
      "----------------------------------------------------------------------\n",
      "Pocket PLA\n",
      "\n",
      "Matriz de Confusão: \n",
      " [[  0   0]\n",
      " [218 897]]\n",
      "              precision    recall  f1-score   support\n",
      "\n",
      "             1       0.00      0.00      0.00       191\n",
      "           -1       0.80      1.00      0.89        924\n",
      "\n",
      "    accuracy                           0.80       1115\n",
      "----------------------------------------------------------------------\n",
      "----------------------------------------------------------------------\n",
      "1 x [4, 5]\n",
      "----------------------------------------------------------------------\n",
      "Regressão Linear\n",
      "\n",
      "Matriz de Confusão: \n",
      " [[  0   0]\n",
      " [292 649]]\n",
      "              precision    recall  f1-score   support\n",
      "\n",
      "             1       0.00      0.00      0.00       0\n",
      "           -1       0.69      1.00      0.82        941\n",
      "\n",
      "    accuracy                           0.69       941\n",
      "----------------------------------------------------------------------\n",
      "Regressão Logística\n",
      "\n",
      "Matriz de Confusão: \n",
      " [[151  82]\n",
      " [141 741]]\n",
      "              precision    recall  f1-score   support\n",
      "\n",
      "             1       0.65      0.52      0.58       233\n",
      "           -1       0.84      0.90      0.87        882\n",
      "\n",
      "    accuracy                           0.80       1115\n",
      "----------------------------------------------------------------------\n",
      "Pocket PLA\n",
      "\n",
      "Matriz de Confusão: \n",
      " [[170  21]\n",
      " [122 802]]\n",
      "              precision    recall  f1-score   support\n",
      "\n",
      "             1       0.89      0.58      0.70       191\n",
      "           -1       0.87      0.97      0.92        924\n",
      "\n",
      "    accuracy                           0.87       1115\n",
      "----------------------------------------------------------------------\n",
      "----------------------------------------------------------------------\n",
      "4 x [5]\n",
      "----------------------------------------------------------------------\n",
      "Regressão Linear\n",
      "\n",
      "Matriz de Confusão: \n",
      " [[154 468]\n",
      " [160 159]]\n",
      "              precision    recall  f1-score   support\n",
      "\n",
      "             1       0.25      0.49      0.33       0\n",
      "           -1       0.50      0.25      0.34        941\n",
      "\n",
      "    accuracy                           0.33       941\n",
      "----------------------------------------------------------------------\n",
      "Regressão Logística\n",
      "\n",
      "Matriz de Confusão: \n",
      " [[171 397]\n",
      " [143 171]]\n",
      "              precision    recall  f1-score   support\n",
      "\n",
      "             1       0.30      0.54      0.39       0\n",
      "           -1       0.54      0.30      0.39        882\n",
      "\n",
      "    accuracy                           0.39       882\n",
      "----------------------------------------------------------------------\n",
      "Pocket PLA\n",
      "\n",
      "Matriz de Confusão: \n",
      " [[192 469]\n",
      " [122 141]]\n",
      "              precision    recall  f1-score   support\n",
      "\n",
      "             1       0.29      0.61      0.39       0\n",
      "           -1       0.54      0.23      0.32        924\n",
      "\n",
      "    accuracy                           0.36       924\n",
      "----------------------------------------------------------------------\n"
     ]
    }
   ],
   "source": [
    "y_pred_linr_copy = y_pred_linr.copy()\n",
    "y_pred_logr_copy = y_pred_logr.copy()\n",
    "y_pred_pla_copy = y_pred_pla.copy()\n",
    "models_to_print = [\"Regressão Linear\",\n",
    "                   \"Regressão Logística\",\n",
    "                   \"Pocket PLA\"]\n",
    "\n",
    "\n",
    "for i in [0, 1, 4]:\n",
    "    print(\"-\"*70)\n",
    "    if i != 4:\n",
    "        print(f\"{i} x {[0, 1, 4, 5][i+1:]}\")\n",
    "    else:\n",
    "        print(f\"{i} x [5]\")\n",
    "    print(\"-\"*70)\n",
    "    for c, y_pred in enumerate([y_pred_linr_copy, y_pred_logr_copy, y_pred_pla_copy]):\n",
    "        print(models_to_print[c], end=\"\\n\\n\")\n",
    "        print(metrics.classification_report_all(y_test, y_pred, real_class = i))    \n",
    "        print(\"-\"*70)\n",
    "        \n",
    "        \n",
    "    y_pred_linr_copy = y_pred_linr_copy[y_pred_linr_copy != i]\n",
    "    y_pred_logr_copy = y_pred_logr_copy[y_pred_logr_copy != i]\n",
    "    y_pred_pla_copy = y_pred_pla_copy[y_pred_pla_copy != i]"
   ]
  },
  {
   "cell_type": "code",
   "execution_count": 23,
   "id": "a6ad3b7a",
   "metadata": {},
   "outputs": [],
   "source": [
    "def report(cm):    \n",
    "    # calcular as métricas de avaliação a partir da matriz de confusão\n",
    "    TP = np.diag(cm)\n",
    "    TN = np.sum(cm) - (np.sum(TP) + np.sum(cm.diagonal(-1)))\n",
    "    FP = np.sum(cm, axis=0) - TP\n",
    "    FN = np.sum(cm, axis=1) - TP\n",
    "\n",
    "    accuracy = (TP + TN) / np.sum(cm)\n",
    "    precision = TP / (TP + FP)\n",
    "    recall = TP / (TP + FN)\n",
    "    f1_score = 2 * (precision * recall) / (precision + recall)\n",
    "\n",
    "    # imprimir as métricas de avaliação\n",
    "    print('Acurácia:', accuracy)\n",
    "    print('Precisão:', precision)\n",
    "    print('Recall:', recall)\n",
    "    print('F1 Score:', f1_score)"
   ]
  },
  {
   "cell_type": "code",
   "execution_count": 27,
   "id": "ea31c04f",
   "metadata": {},
   "outputs": [
    {
     "name": "stdout",
     "output_type": "stream",
     "text": [
      "Regressão Linear\n",
      "\n",
      "[[174.   0.   0.  44.]\n",
      " [  0.   0. 292.   0.]\n",
      " [  0.   0. 306.   8.]\n",
      " [  0.   0.  24. 267.]]\n",
      "Acurácia: [0.46457399 0.30852018 0.58295964 0.54798206]\n",
      "Precisão: [1.                nan 0.49196141 0.8369906 ]\n",
      "Recall: [0.79816514 0.         0.97452229 0.91752577]\n",
      "F1 Score: [0.8877551         nan 0.65384615 0.87540984]\n",
      "----------------------------------------------------------------------\n",
      "Regressão Logística\n",
      "\n",
      "[[  0.   0. 196.  22.]\n",
      " [  0. 151.  71.  70.]\n",
      " [  0.   0. 230.  84.]\n",
      " [  0.  82.  71. 138.]]\n",
      "Acurácia: [0.47085202 0.60627803 0.67713004 0.59461883]\n",
      "Precisão: [       nan 0.64806867 0.40492958 0.43949045]\n",
      "Recall: [0.         0.51712329 0.73248408 0.4742268 ]\n",
      "F1 Score: [       nan 0.5752381  0.52154195 0.45619835]\n",
      "----------------------------------------------------------------------\n",
      "Pocket PLA\n",
      "\n",
      "[[  0.   0. 206.  12.]\n",
      " [  0. 170.  84.  38.]\n",
      " [  0.   0. 273.  41.]\n",
      " [  0.  21.  98. 172.]]\n",
      "Acurácia: [0.36053812 0.51300448 0.60538117 0.51479821]\n",
      "Precisão: [       nan 0.89005236 0.41301059 0.6539924 ]\n",
      "Recall: [0.         0.58219178 0.86942675 0.59106529]\n",
      "F1 Score: [       nan 0.70393375 0.56       0.62093863]\n",
      "----------------------------------------------------------------------\n"
     ]
    },
    {
     "name": "stderr",
     "output_type": "stream",
     "text": [
      "/tmp/ipykernel_5433/893987251.py:9: RuntimeWarning: invalid value encountered in divide\n",
      "  precision = TP / (TP + FP)\n"
     ]
    }
   ],
   "source": [
    "for c, y_pred in enumerate([y_pred_linr, y_pred_logr, y_pred_pla]):\n",
    "    print(models_to_print[c], end=\"\\n\\n\")\n",
    "    c_m = cm(y_test, y_pred)\n",
    "    print(c_m)\n",
    "    report(c_m)\n",
    "    print(\"-\"*70)"
   ]
  },
  {
   "cell_type": "code",
   "execution_count": null,
   "id": "973808f6",
   "metadata": {},
   "outputs": [],
   "source": []
  }
 ],
 "metadata": {
  "kernelspec": {
   "display_name": "Python 3 (ipykernel)",
   "language": "python",
   "name": "python3"
  },
  "language_info": {
   "codemirror_mode": {
    "name": "ipython",
    "version": 3
   },
   "file_extension": ".py",
   "mimetype": "text/x-python",
   "name": "python",
   "nbconvert_exporter": "python",
   "pygments_lexer": "ipython3",
   "version": "3.10.6"
  }
 },
 "nbformat": 4,
 "nbformat_minor": 5
}
