{
 "cells": [
  {
   "cell_type": "code",
   "execution_count": 1,
   "id": "2da4ad71",
   "metadata": {},
   "outputs": [],
   "source": [
    "import pandas as pd\n",
    "import numpy as np"
   ]
  },
  {
   "cell_type": "code",
   "execution_count": 2,
   "id": "bdc4b228",
   "metadata": {},
   "outputs": [],
   "source": [
    "import src.utils as utils"
   ]
  },
  {
   "cell_type": "code",
   "execution_count": 3,
   "id": "db31122b",
   "metadata": {},
   "outputs": [],
   "source": [
    "train = pd.read_csv(\"./data/train.csv\", sep=\";\")\n",
    "test = pd.read_csv(\"./data/test.csv\", sep=\";\")"
   ]
  },
  {
   "cell_type": "code",
   "execution_count": 4,
   "id": "8748d4ef",
   "metadata": {},
   "outputs": [
    {
     "data": {
      "text/plain": [
       "(2186, 785)"
      ]
     },
     "execution_count": 4,
     "metadata": {},
     "output_type": "execute_result"
    }
   ],
   "source": [
    "train.shape"
   ]
  },
  {
   "cell_type": "code",
   "execution_count": 8,
   "id": "ca4f2e37",
   "metadata": {},
   "outputs": [],
   "source": [
    "pixels = train.iloc[:, 1:].values\n",
    "label = train.iloc[:, 0].values"
   ]
  },
  {
   "cell_type": "markdown",
   "id": "e0807cc7",
   "metadata": {},
   "source": [
    "## Intensidade da imagem"
   ]
  },
  {
   "cell_type": "code",
   "execution_count": 9,
   "id": "0be8476c",
   "metadata": {},
   "outputs": [
    {
     "data": {
      "text/plain": [
       "array([145.43529412, 118.57647059, 127.6       , ..., 110.7254902 ,\n",
       "        99.30588235, 101.17254902])"
      ]
     },
     "execution_count": 9,
     "metadata": {},
     "output_type": "execute_result"
    }
   ],
   "source": [
    "utils.intensity(pixels)"
   ]
  },
  {
   "cell_type": "code",
   "execution_count": null,
   "id": "1c704d4b",
   "metadata": {},
   "outputs": [],
   "source": []
  }
 ],
 "metadata": {
  "kernelspec": {
   "display_name": "Python 3 (ipykernel)",
   "language": "python",
   "name": "python3"
  },
  "language_info": {
   "codemirror_mode": {
    "name": "ipython",
    "version": 3
   },
   "file_extension": ".py",
   "mimetype": "text/x-python",
   "name": "python",
   "nbconvert_exporter": "python",
   "pygments_lexer": "ipython3",
   "version": "3.10.6"
  }
 },
 "nbformat": 4,
 "nbformat_minor": 5
}
